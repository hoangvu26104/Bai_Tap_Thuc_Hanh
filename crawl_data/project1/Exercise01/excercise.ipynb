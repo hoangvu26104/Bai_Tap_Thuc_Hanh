{
 "cells": [
  {
   "cell_type": "code",
   "execution_count": 5,
   "metadata": {},
   "outputs": [],
   "source": [
    "from selenium import webdriver\n",
    "from selenium.webdriver.chrome.service import Service\n",
    "from selenium.webdriver.common.by import By\n",
    "from selenium.webdriver.common.keys import Keys\n",
    "from selenium.webdriver.support.ui import WebDriverWait\n",
    "from selenium.webdriver.support import expected_conditions as EC\n",
    "from selenium.common.exceptions import NoSuchElementException, TimeoutException\n",
    "from selenium.webdriver import ActionChains\n",
    "import time\n",
    "import pandas as pd\n",
    "\n",
    "# I. Tai noi chua links vaf Tao dataframe rong\n",
    "all_links = []\n",
    "d = pd.DataFrame({'name': [], 'birth': [], 'death': [], 'nationality':[]})\n",
    "\n",
    "# Đường dẫn đến file thực thi geckodriver\n",
    "gecko_path = r\"D:/Sele/project1/Exercise01/geckodriver.exe\"\n",
    "\n",
    "# Khởi tởi đối tượng dịch vụ với đường geckodriver\n",
    "ser = Service(gecko_path)\n",
    "\n",
    "# Tạo tùy chọn\n",
    "options = webdriver.firefox.options.Options()\n",
    "options.binary_location =\"C:/Program Files/Mozilla Firefox/firefox.exe\"\n",
    "# Thiết lập firefox chỉ hiện thị giao diện\n",
    "options.headless = False\n",
    "\n",
    "# Khởi tạo driver\n",
    "driver = webdriver.Firefox(options = options, service=ser)\n",
    "\n",
    "# Tạo url\n",
    "url = 'https://en.wikipedia.org/wiki/Lists_of_musicians'\n",
    "\n",
    "# Truy cập\n",
    "driver.get(url)\n",
    "\n",
    "# Tạm dừng khoảng 2 giây\n",
    "time.sleep(1)\n",
    "\n",
    "# Tìm phần tử body của trang để gửi phím mũi tên xuống\n",
    "ul_tags = driver.find_elements(By.TAG_NAME, \"ul\")\n",
    "time.sleep(3)"
   ]
  },
  {
   "cell_type": "code",
   "execution_count": 6,
   "metadata": {},
   "outputs": [
    {
     "name": "stdout",
     "output_type": "stream",
     "text": [
      "141\n"
     ]
    }
   ],
   "source": [
    "print(len(ul_tags))"
   ]
  }
 ],
 "metadata": {
  "kernelspec": {
   "display_name": "Python 3",
   "language": "python",
   "name": "python3"
  },
  "language_info": {
   "codemirror_mode": {
    "name": "ipython",
    "version": 3
   },
   "file_extension": ".py",
   "mimetype": "text/x-python",
   "name": "python",
   "nbconvert_exporter": "python",
   "pygments_lexer": "ipython3",
   "version": "3.10.11"
  }
 },
 "nbformat": 4,
 "nbformat_minor": 2
}
