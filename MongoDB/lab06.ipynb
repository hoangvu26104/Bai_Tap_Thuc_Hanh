{
 "cells": [
  {
   "cell_type": "code",
   "execution_count": null,
   "metadata": {},
   "outputs": [],
   "source": [
    "from pymongo import MongoClient\n",
    "from datetime import datetime\n",
    "\n",
    "client = MongoClient('mongodb://localhost:27017/')\n",
    "client.drop_database('driveABC')\n",
    "db = client['driveABC']\n",
    "files_collection = db['files']\n",
    "posts_collection = db['videos']\n",
    "comments_collection = db['comments']\n",
    "\n",
    "files_data = [\n",
    "    { 'file_id': 1, 'name': 'Report.pdf', 'size': 2048, 'owner': 'Nguyen Van A', 'created_at': datetime(2024,1,10), 'shared': 'false' },\n",
    "    { 'file_id': 2, 'name': 'Presentation.pptx', 'size': 5120, 'owner': 'Tran Thi B', 'created_at': datetime(2024,1,15), 'shared': 'true' },\n",
    "    { 'file_id': 3, 'name': 'Image.png', 'size': 1024, 'owner': 'Le Van C', 'created_at': datetime(2024,1,20), 'shared': 'false' },\n",
    "    { 'file_id': 4, 'name': 'Spreadsheet.xlsx', 'size': 3072, 'owner': 'Pham Van D', 'created_at': datetime(2024,1,25), 'shared': 'true' },\n",
    "    { 'file_id': 5, 'name': 'Notes.txt', 'size': 512, 'owner': 'Nguyen Thi E', 'created_at': datetime(2024,1,30), 'shared': 'false' }\n",
    "]\n",
    "files_collection.insert_many(files_data)\n",
    "for file in files_collection.find():\n",
    "    print(file)\n",
    "\n"
   ]
  },
  {
   "cell_type": "code",
   "execution_count": 6,
   "metadata": {},
   "outputs": [
    {
     "name": "stdout",
     "output_type": "stream",
     "text": [
      "{'_id': ObjectId('670de62a149097324ad3e139'), 'file_id': 1, 'name': 'Report.pdf', 'size': 2048, 'owner': 'Nguyen Van A', 'created_at': datetime.datetime(2024, 1, 10, 0, 0), 'shared': 'false'}\n",
      "{'_id': ObjectId('670de62a149097324ad3e13a'), 'file_id': 2, 'name': 'Presentation.pptx', 'size': 5120, 'owner': 'Tran Thi B', 'created_at': datetime.datetime(2024, 1, 15, 0, 0), 'shared': 'true'}\n",
      "{'_id': ObjectId('670de62a149097324ad3e13b'), 'file_id': 3, 'name': 'Image.png', 'size': 1024, 'owner': 'Le Van C', 'created_at': datetime.datetime(2024, 1, 20, 0, 0), 'shared': 'false'}\n",
      "{'_id': ObjectId('670de62a149097324ad3e13c'), 'file_id': 4, 'name': 'Spreadsheet.xlsx', 'size': 3072, 'owner': 'Pham Van D', 'created_at': datetime.datetime(2024, 1, 25, 0, 0), 'shared': 'true'}\n",
      "{'_id': ObjectId('670de62a149097324ad3e13d'), 'file_id': 5, 'name': 'Notes.txt', 'size': 512, 'owner': 'Nguyen Thi E', 'created_at': datetime.datetime(2024, 1, 30, 0, 0), 'shared': 'false'}\n"
     ]
    }
   ],
   "source": [
    "# Xem tất cả tệp trong bộ sưu tập 'files'\n",
    "for file in files_collection.find():\n",
    "    print(file)\n"
   ]
  },
  {
   "cell_type": "code",
   "execution_count": 9,
   "metadata": {},
   "outputs": [
    {
     "name": "stdout",
     "output_type": "stream",
     "text": [
      "{'_id': ObjectId('670de62a149097324ad3e139'), 'file_id': 1, 'name': 'Report.pdf', 'size': 2048, 'owner': 'Nguyen Van A', 'created_at': datetime.datetime(2024, 1, 10, 0, 0), 'shared': 'false'}\n",
      "{'_id': ObjectId('670de62a149097324ad3e13a'), 'file_id': 2, 'name': 'Presentation.pptx', 'size': 5120, 'owner': 'Tran Thi B', 'created_at': datetime.datetime(2024, 1, 15, 0, 0), 'shared': 'true'}\n",
      "{'_id': ObjectId('670de62a149097324ad3e13c'), 'file_id': 4, 'name': 'Spreadsheet.xlsx', 'size': 3072, 'owner': 'Pham Van D', 'created_at': datetime.datetime(2024, 1, 25, 0, 0), 'shared': 'true'}\n"
     ]
    }
   ],
   "source": [
    "#Tìm tệp có kích thước lớn hơn 2000KB\n",
    "than2000 = files_collection.find({'size': {'$gt': 2000}})\n",
    "for file in than2000:\n",
    "    print(file)"
   ]
  },
  {
   "cell_type": "code",
   "execution_count": 12,
   "metadata": {},
   "outputs": [
    {
     "data": {
      "text/plain": [
       "5"
      ]
     },
     "execution_count": 12,
     "metadata": {},
     "output_type": "execute_result"
    }
   ],
   "source": [
    "#Đếm tổng số tệp\n",
    "sum_file = files_collection.count_documents({})\n",
    "sum_file"
   ]
  },
  {
   "cell_type": "code",
   "execution_count": 15,
   "metadata": {},
   "outputs": [
    {
     "name": "stdout",
     "output_type": "stream",
     "text": [
      "{'_id': ObjectId('670de62a149097324ad3e13a'), 'file_id': 2, 'name': 'Presentation.pptx', 'size': 5120, 'owner': 'Tran Thi B', 'created_at': datetime.datetime(2024, 1, 15, 0, 0), 'shared': 'true'}\n",
      "{'_id': ObjectId('670de62a149097324ad3e13c'), 'file_id': 4, 'name': 'Spreadsheet.xlsx', 'size': 3072, 'owner': 'Pham Van D', 'created_at': datetime.datetime(2024, 1, 25, 0, 0), 'shared': 'true'}\n"
     ]
    }
   ],
   "source": [
    "#Tìm tất cả tệp được chia sẻ\n",
    "shared_file = files_collection.find({'shared': 'true'})\n",
    "for file in shared_file:\n",
    "    print(file)"
   ]
  },
  {
   "cell_type": "code",
   "execution_count": 18,
   "metadata": {},
   "outputs": [
    {
     "name": "stdout",
     "output_type": "stream",
     "text": [
      "{'_id': 'Tran Thi B', 'count': 1}\n",
      "{'_id': 'Le Van C', 'count': 1}\n",
      "{'_id': 'Pham Van D', 'count': 1}\n",
      "{'_id': 'Nguyen Van A', 'count': 1}\n",
      "{'_id': 'Nguyen Thi E', 'count': 1}\n"
     ]
    }
   ],
   "source": [
    "#Thống kê số lượng tệp theo chủ sở hữu\n",
    "file_by_owner = files_collection.aggregate([{'$group': {'_id': '$owner', 'count': {'$sum':1}}}])\n",
    "for file in file_by_owner:\n",
    "    print(file)"
   ]
  },
  {
   "cell_type": "code",
   "execution_count": null,
   "metadata": {},
   "outputs": [],
   "source": [
    "#Xóa tệp với file_id = 3\n",
    "delete_file = "
   ]
  }
 ],
 "metadata": {
  "kernelspec": {
   "display_name": "Python 3",
   "language": "python",
   "name": "python3"
  },
  "language_info": {
   "codemirror_mode": {
    "name": "ipython",
    "version": 3
   },
   "file_extension": ".py",
   "mimetype": "text/x-python",
   "name": "python",
   "nbconvert_exporter": "python",
   "pygments_lexer": "ipython3",
   "version": "3.10.11"
  }
 },
 "nbformat": 4,
 "nbformat_minor": 2
}
