{
 "cells": [
  {
   "cell_type": "code",
   "execution_count": 6,
   "metadata": {},
   "outputs": [
    {
     "name": "stdout",
     "output_type": "stream",
     "text": [
      "['https://en.wikipedia.org/wiki/List_of_acid_rock_artists', 'https://en.wikipedia.org/wiki/List_of_adult_alternative_artists', 'https://en.wikipedia.org/wiki/List_of_alternative_country_musicians', 'https://en.wikipedia.org/wiki/List_of_alternative_hip_hop_artists', 'https://en.wikipedia.org/wiki/List_of_alternative_metal_artists', 'https://en.wikipedia.org/wiki/List_of_alternative_rock_artists', 'https://en.wikipedia.org/wiki/List_of_ambient_music_artists', 'https://en.wikipedia.org/wiki/List_of_anarcho-punk_bands', 'https://en.wikipedia.org/wiki/List_of_Arabic_pop_musicians', 'https://en.wikipedia.org/wiki/List_of_avant-garde_metal_artists']\n"
     ]
    }
   ],
   "source": [
    "from selenium import webdriver\n",
    "from selenium.webdriver.common.by import By\n",
    "import time\n",
    "import pandas as pd\n",
    "\n",
    "\n",
    "df = pd.DataFrame({\"Name\": [], \"Year active\": []})\n",
    "\n",
    "\"Khoi tao web\"\n",
    "driver = webdriver.Chrome()\n",
    "\n",
    "\"Mo trang web\"\n",
    "url = \"https://en.wikipedia.org/wiki/Lists_of_musicians\"\n",
    "driver.get(url)\n",
    "time.sleep(2)\n",
    "\n",
    "\n",
    "\"Lay thong tin ve cac nhac si chuyen ve the loai am nhac bat dau bang chu A\"\n",
    "\n",
    "\"Tim tat ca cac the ul\"\n",
    "ul_tags = driver.find_elements(By.TAG_NAME, \"ul\")\n",
    "\n",
    "\"Tim tat ca cac the li\"\n",
    "\n",
    "li_tags = ul_tags[21].find_elements(By.TAG_NAME, \"li\")\n",
    "urls_musican = [tag.find_element(By.TAG_NAME, \"a\").get_attribute(\"href\") for tag in li_tags]\n"
   ]
  },
  {
   "cell_type": "code",
   "execution_count": 13,
   "metadata": {},
   "outputs": [
    {
     "name": "stdout",
     "output_type": "stream",
     "text": [
      "['https://en.wikipedia.org/wiki/The_13th_Floor_Elevators', 'https://en.wikipedia.org/wiki/Alice_Cooper_(band)', 'https://en.wikipedia.org/wiki/The_Amboy_Dukes_(band)', 'https://en.wikipedia.org/wiki/Amon_D%C3%BC%C3%BCl', 'https://en.wikipedia.org/wiki/Big_Brother_and_the_Holding_Company', 'https://en.wikipedia.org/wiki/Black_Sabbath', 'https://en.wikipedia.org/wiki/Blue_Cheer', 'https://en.wikipedia.org/wiki/Blues_Magoos', 'https://en.wikipedia.org/wiki/The_Charlatans_(American_band)', 'https://en.wikipedia.org/wiki/Count_Five', 'https://en.wikipedia.org/wiki/Country_Joe_and_the_Fish', 'https://en.wikipedia.org/wiki/Coven_(band)', 'https://en.wikipedia.org/wiki/Cream_(band)', 'https://en.wikipedia.org/wiki/Deep_Purple', 'https://en.wikipedia.org/wiki/The_Deviants_(band)', 'https://en.wikipedia.org/wiki/The_Doors', 'https://en.wikipedia.org/wiki/The_Electric_Prunes', 'https://en.wikipedia.org/wiki/The_Fugs', 'https://en.wikipedia.org/wiki/Grateful_Dead', 'https://en.wikipedia.org/wiki/The_Great_Society_(band)', 'https://en.wikipedia.org/wiki/The_Groundhogs', 'https://en.wikipedia.org/wiki/Hawkwind', 'https://en.wikipedia.org/wiki/Iron_Butterfly', 'https://en.wikipedia.org/wiki/Jefferson_Airplane', 'https://en.wikipedia.org/wiki/The_Jimi_Hendrix_Experience', 'https://en.wikipedia.org/wiki/Janis_Joplin', 'https://en.wikipedia.org/wiki/JPT_Scare_Band', 'https://en.wikipedia.org/wiki/Love_(band)', 'https://en.wikipedia.org/wiki/MC5', 'https://en.wikipedia.org/wiki/Moby_Grape', 'https://en.wikipedia.org/wiki/The_Music_Machine', 'https://en.wikipedia.org/wiki/Pop_Ma%C5%A1ina', 'https://en.wikipedia.org/wiki/Quicksilver_Messenger_Service', 'https://en.wikipedia.org/wiki/Santana_(band)', 'https://en.wikipedia.org/wiki/The_Seeds', 'https://en.wikipedia.org/wiki/Grace_Slick', 'https://en.wikipedia.org/wiki/Steppenwolf_(band)', 'https://en.wikipedia.org/wiki/Tully_(band)', 'https://en.wikipedia.org/wiki/Vanilla_Fudge', 'https://en.wikipedia.org/wiki/Wooden_Shjips']\n",
      "['The 13th Floor Elevators', 'Alice Cooper (band)', 'The Amboy Dukes (band)', 'Amon Düül', 'Big Brother and the Holding Company', 'Black Sabbath', 'Blue Cheer', 'Blues Magoos', 'The Charlatans (American band)', 'Count Five', 'Country Joe and the Fish', 'Coven (band)', 'Cream (band)', 'Deep Purple', 'The Deviants (band)', 'The Doors', 'The Electric Prunes', 'The Fugs', 'Grateful Dead', 'The Great Society (band)', 'The Groundhogs', 'Hawkwind', 'Iron Butterfly', 'Jefferson Airplane', 'The Jimi Hendrix Experience', 'Janis Joplin', 'JPT Scare Band', 'Love (band)', 'MC5', 'Moby Grape', 'The Music Machine', 'Pop Mašina', 'Quicksilver Messenger Service', 'Santana (band)', 'The Seeds', 'Grace Slick', 'Steppenwolf (band)', 'Tully (band)', 'Vanilla Fudge', 'Wooden Shjips']\n"
     ]
    }
   ],
   "source": [
    "driver = webdriver.Chrome()\n",
    "url_alphebet = urls_musican[0]\n",
    "driver.get(url_alphebet)\n",
    "uls = driver.find_elements(By.TAG_NAME, \"ul\")\n",
    "lis = uls[24].find_elements(By.TAG_NAME, \"li\")\n",
    "url_detail = [tag.find_element(By.TAG_NAME, \"a\").get_attribute(\"href\") for tag in lis]\n",
    "title = [tag.find_element(By.TAG_NAME, \"a\").get_attribute(\"title\") for tag in lis]\n",
    "print(url_detail)\n",
    "print(title)\n",
    "\n",
    "\n",
    "\n"
   ]
  },
  {
   "cell_type": "code",
   "execution_count": 15,
   "metadata": {},
   "outputs": [
    {
     "name": "stdout",
     "output_type": "stream",
     "text": [
      "The 13th Floor Elevators\n",
      "1965–1969, 1973, 1984, 2015\n"
     ]
    }
   ],
   "source": [
    "driver = webdriver.Chrome()\n",
    "url_artist = url_detail[0]\n",
    "driver.get(url_artist)\n",
    "name = driver.find_element(By.XPATH, \"//*[@id='firstHeading']/span\").text\n",
    "years_active = driver.find_element(By.XPATH, \"//*[@id='mw-content-text']/div[1]/table[2]/tbody/tr[4]/td\").text\n",
    "print(name)\n",
    "print(years_active)\n"
   ]
  },
  {
   "cell_type": "code",
   "execution_count": 12,
   "metadata": {},
   "outputs": [
    {
     "name": "stdout",
     "output_type": "stream",
     "text": [
      "Index: 0, Value: The 13th Floor Elevators[1]\n",
      "Index: 1, Value: Alice Cooper (late 60s work)[3]\n",
      "Index: 2, Value: The Amboy Dukes[1][4]\n",
      "Index: 3, Value: Amon Düül[5]\n",
      "Index: 4, Value: Big Brother and the Holding Company[1][6]\n",
      "Index: 5, Value: Black Sabbath[7]\n",
      "Index: 6, Value: Blue Cheer[2][8][9]\n",
      "Index: 7, Value: Blues Magoos[10]\n",
      "Index: 8, Value: The Charlatans[6]\n",
      "Index: 9, Value: Count Five[1]\n",
      "Index: 10, Value: Country Joe and the Fish[6][11]\n",
      "Index: 11, Value: Coven[12]\n",
      "Index: 12, Value: Cream[2][8]\n",
      "Index: 13, Value: Deep Purple[8]\n",
      "Index: 14, Value: The Deviants[13]\n",
      "Index: 15, Value: The Doors[1][14]\n",
      "Index: 16, Value: The Electric Prunes[10]\n",
      "Index: 17, Value: The Fugs[15]\n",
      "Index: 18, Value: Grateful Dead[1][6][11][16]\n",
      "Index: 19, Value: The Great Society[6][17]\n",
      "Index: 20, Value: The Groundhogs[18]\n",
      "Index: 21, Value: Hawkwind[19]\n",
      "Index: 22, Value: Iron Butterfly[8][20]\n",
      "Index: 23, Value: Jefferson Airplane[6][11][21]\n",
      "Index: 24, Value: The Jimi Hendrix Experience[1][8][11]\n",
      "Index: 25, Value: Janis Joplin[1][22]\n",
      "Index: 26, Value: JPT Scare Band[23]\n",
      "Index: 27, Value: Love[10][14]\n",
      "Index: 28, Value: MC5[24]\n",
      "Index: 29, Value: Moby Grape[11][25]\n",
      "Index: 30, Value: The Music Machine[10]\n",
      "Index: 31, Value: Pop Mašina[26][27][28]\n",
      "Index: 32, Value: Quicksilver Messenger Service[6][11][29]\n",
      "Index: 33, Value: Santana[11]\n",
      "Index: 34, Value: The Seeds[7]\n",
      "Index: 35, Value: Grace Slick[30]\n",
      "Index: 36, Value: Steppenwolf[1][10]\n",
      "Index: 37, Value: Tully[31]\n",
      "Index: 38, Value: Vanilla Fudge[8][10][32]\n",
      "Index: 39, Value: Wooden Shjips[33]\n"
     ]
    }
   ],
   "source": [
    "for index, value in enumerate(lis):\n",
    "    print(f\"Index: {index}, Value: {value.text}\")"
   ]
  }
 ],
 "metadata": {
  "kernelspec": {
   "display_name": "Python 3",
   "language": "python",
   "name": "python3"
  },
  "language_info": {
   "codemirror_mode": {
    "name": "ipython",
    "version": 3
   },
   "file_extension": ".py",
   "mimetype": "text/x-python",
   "name": "python",
   "nbconvert_exporter": "python",
   "pygments_lexer": "ipython3",
   "version": "3.10.11"
  }
 },
 "nbformat": 4,
 "nbformat_minor": 2
}
